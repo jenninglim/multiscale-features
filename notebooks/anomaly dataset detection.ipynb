{
 "cells": [
  {
   "cell_type": "code",
   "execution_count": 1,
   "metadata": {},
   "outputs": [],
   "source": [
    "# Imports\n",
    "import sys\n",
    "sys.path.append(\"../\")\n",
    "import numpy as np\n",
    "from mskernel import mmd\n",
    "from mskernel import kernel\n",
    "from mskernel.featsel import MultiSel, PolySel"
   ]
  },
  {
   "cell_type": "code",
   "execution_count": 2,
   "metadata": {},
   "outputs": [],
   "source": [
    "# Datasets with 2 dimensions\n",
    "n_samples = 100\n",
    "reference = np.random.randn(n_samples, 2) # N(0,1)\n",
    "correct = np.random.randn(n_samples, 2) # N(0,1)\n",
    "slightly_wrong = np.random.randn(n_samples, 2) + 0.1 # N(0.1,1)\n",
    "clearly_wrong = np.random.randn(n_samples, 2) + 1. # N(1,1)\n",
    "\n",
    "# Changing the format to fit MultiSel\n",
    "datasets = np.stack([correct, slightly_wrong, clearly_wrong], axis=1)\n",
    "reference = np.repeat(np.expand_dims(reference, axis=1), datasets.shape[1], axis=1)"
   ]
  },
  {
   "cell_type": "code",
   "execution_count": 3,
   "metadata": {},
   "outputs": [
    {
     "name": "stdout",
     "output_type": "stream",
     "text": [
      "Testing with significance level 0.05 selecting 3\n"
     ]
    },
    {
     "data": {
      "text/plain": [
       "{'sel_vars': array([0, 1, 2], dtype=int64),\n",
       " 'h0_rejs': array([False, False,  True]),\n",
       " 'pvals': array([9.43497518e-01, 8.29174977e-01, 3.33759475e-05])}"
      ]
     },
     "execution_count": 3,
     "metadata": {},
     "output_type": "execute_result"
    }
   ],
   "source": [
    "# Using MMD with KIMQ kernel\n",
    "mmd_e  = mmd.MMD_Inc(kernel.KIMQ())\n",
    "\n",
    "# Using Multiscale bootstrap with n_select=3\n",
    "n_select = 3\n",
    "test = MultiSel(mmd_e)\n",
    "test.test(reference, datasets, args=n_select)"
   ]
  },
  {
   "cell_type": "code",
   "execution_count": null,
   "metadata": {},
   "outputs": [],
   "source": []
  }
 ],
 "metadata": {
  "kernelspec": {
   "display_name": "Python 3",
   "language": "python",
   "name": "python3"
  },
  "language_info": {
   "codemirror_mode": {
    "name": "ipython",
    "version": 3
   },
   "file_extension": ".py",
   "mimetype": "text/x-python",
   "name": "python",
   "nbconvert_exporter": "python",
   "pygments_lexer": "ipython3",
   "version": "3.7.6"
  }
 },
 "nbformat": 4,
 "nbformat_minor": 4
}
